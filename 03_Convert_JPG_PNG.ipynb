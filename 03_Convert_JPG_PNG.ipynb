{
 "cells": [
  {
   "cell_type": "markdown",
   "metadata": {},
   "source": [
    "# Convert JPG to PNG"
   ]
  },
  {
   "cell_type": "code",
   "execution_count": 1,
   "metadata": {},
   "outputs": [],
   "source": [
    "from PIL import Image\n",
    "import sys\n",
    "import os\n",
    "import re"
   ]
  },
  {
   "cell_type": "code",
   "execution_count": 2,
   "metadata": {},
   "outputs": [],
   "source": [
    "# Time\n",
    "from datetime import datetime, timezone\n",
    "from time import time\n",
    "import pytz\n",
    "CST = pytz.timezone('US/Central')"
   ]
  },
  {
   "cell_type": "code",
   "execution_count": 3,
   "metadata": {},
   "outputs": [],
   "source": [
    "def jpg2png(input_path, output_path):\n",
    "    t0 = time()\n",
    "    files = sorted(os.listdir(input_path))\n",
    "    count = start_number\n",
    "    for file in files:\n",
    "        img = Image.open(input_path + '{:05d}.jpg'.format(count))\n",
    "        img.save(output_path + '{:05d}.png'.format(count), 'png')\n",
    "        if (count%1000) == 0:\n",
    "          print('Step: {:>5} - {} - Time: {:.2f} mins'.format(count,datetime.now(CST).strftime(\"%H:%M:%S\"),(time()-t0)/60))\n",
    "        count = count + 1\n",
    "    print(count-1)"
   ]
  },
  {
   "cell_type": "markdown",
   "metadata": {},
   "source": [
    "## Training set"
   ]
  },
  {
   "cell_type": "code",
   "execution_count": 15,
   "metadata": {},
   "outputs": [
    {
     "name": "stdout",
     "output_type": "stream",
     "text": [
      "Step:  1000 - 22:18:25 - Time: 0.00 mins\n",
      "Step:  2000 - 22:18:25 - Time: 0.00 mins\n",
      "Step:  3000 - 22:18:25 - Time: 0.00 mins\n",
      "Step:  4000 - 22:18:25 - Time: 0.00 mins\n",
      "Step:  5000 - 22:18:25 - Time: 0.00 mins\n",
      "Step:  6000 - 22:18:25 - Time: 0.00 mins\n",
      "Step:  7000 - 22:18:25 - Time: 0.00 mins\n",
      "Step:  8000 - 22:18:25 - Time: 0.00 mins\n",
      "Step:  9000 - 22:18:25 - Time: 0.00 mins\n",
      "Step: 10000 - 22:18:25 - Time: 0.00 mins\n",
      "Step: 11000 - 22:18:25 - Time: 0.00 mins\n",
      "Step: 12000 - 22:18:25 - Time: 0.00 mins\n",
      "Step: 13000 - 22:18:25 - Time: 0.00 mins\n",
      "Step: 14000 - 22:18:25 - Time: 0.00 mins\n",
      "Step: 15000 - 22:18:25 - Time: 0.00 mins\n",
      "Step: 16000 - 22:18:25 - Time: 0.00 mins\n",
      "Step: 17000 - 22:18:25 - Time: 0.00 mins\n",
      "Step: 18000 - 22:18:25 - Time: 0.00 mins\n",
      "Step: 19000 - 22:18:25 - Time: 0.00 mins\n",
      "Step: 20000 - 22:18:25 - Time: 0.00 mins\n",
      "Step: 21000 - 22:18:25 - Time: 0.00 mins\n",
      "Step: 22000 - 22:18:25 - Time: 0.00 mins\n",
      "Step: 23000 - 22:18:25 - Time: 0.00 mins\n",
      "Step: 24000 - 22:18:25 - Time: 0.00 mins\n",
      "Step: 25000 - 22:18:25 - Time: 0.00 mins\n",
      "Step: 26000 - 22:18:25 - Time: 0.00 mins\n",
      "Step: 27000 - 22:18:25 - Time: 0.00 mins\n",
      "Step: 28000 - 22:18:25 - Time: 0.00 mins\n",
      "Step: 29000 - 22:18:25 - Time: 0.00 mins\n",
      "Step: 30000 - 22:18:25 - Time: 0.00 mins\n",
      "Step: 31000 - 22:18:25 - Time: 0.00 mins\n",
      "Step: 32000 - 22:18:25 - Time: 0.00 mins\n",
      "Step: 33000 - 22:18:25 - Time: 0.00 mins\n",
      "Step: 34000 - 22:18:25 - Time: 0.00 mins\n",
      "Step: 35000 - 22:18:25 - Time: 0.00 mins\n",
      "Step: 36000 - 22:18:25 - Time: 0.00 mins\n",
      "Step: 37000 - 22:18:25 - Time: 0.00 mins\n",
      "Step: 38000 - 22:18:25 - Time: 0.00 mins\n",
      "Step: 39000 - 22:18:25 - Time: 0.00 mins\n",
      "Step: 40000 - 22:18:25 - Time: 0.00 mins\n",
      "Step: 41000 - 22:18:25 - Time: 0.00 mins\n",
      "Step: 42000 - 22:18:25 - Time: 0.00 mins\n",
      "Step: 43000 - 22:18:25 - Time: 0.00 mins\n",
      "Step: 44000 - 22:18:25 - Time: 0.00 mins\n",
      "Step: 45000 - 22:18:25 - Time: 0.00 mins\n",
      "Step: 46000 - 22:18:25 - Time: 0.00 mins\n",
      "Step: 47000 - 22:18:26 - Time: 0.00 mins\n",
      "Step: 48000 - 22:18:26 - Time: 0.00 mins\n",
      "Step: 49000 - 22:18:26 - Time: 0.00 mins\n",
      "Step: 50000 - 22:18:26 - Time: 0.00 mins\n",
      "Step: 51000 - 22:18:26 - Time: 0.00 mins\n",
      "Step: 52000 - 22:18:26 - Time: 0.00 mins\n",
      "Step: 53000 - 22:18:26 - Time: 0.00 mins\n",
      "Step: 54000 - 22:18:26 - Time: 0.00 mins\n",
      "Step: 55000 - 22:18:26 - Time: 0.00 mins\n",
      "Step: 56000 - 22:18:26 - Time: 0.00 mins\n",
      "Step: 57000 - 22:18:26 - Time: 0.00 mins\n",
      "Step: 58000 - 22:18:26 - Time: 0.00 mins\n",
      "Step: 59000 - 22:18:26 - Time: 0.00 mins\n",
      "Step: 60000 - 22:18:26 - Time: 0.00 mins\n",
      "Step: 61000 - 22:18:26 - Time: 0.00 mins\n",
      "Step: 62000 - 22:18:26 - Time: 0.00 mins\n",
      "Step: 63000 - 22:18:26 - Time: 0.00 mins\n",
      "Step: 64000 - 22:18:26 - Time: 0.00 mins\n",
      "64123\n"
     ]
    }
   ],
   "source": [
    "# Images\n",
    "input_path = 'ComputerVision/workspace/images/100k/train/gt_image_jpg/'\n",
    "output_path = 'ComputerVision/workspace/images/100k/train/gt_image_png/'\n",
    "\n",
    "start_number = 1\n",
    "jpg2png(input_path, output_path)"
   ]
  },
  {
   "cell_type": "code",
   "execution_count": 8,
   "metadata": {},
   "outputs": [
    {
     "name": "stdout",
     "output_type": "stream",
     "text": [
      "Step:  1000 - 15:07:37 - Time: 0.43 mins\n",
      "Step:  2000 - 15:08:00 - Time: 0.82 mins\n",
      "Step:  3000 - 15:08:27 - Time: 1.26 mins\n",
      "Step:  4000 - 15:08:53 - Time: 1.69 mins\n",
      "Step:  5000 - 15:09:21 - Time: 2.16 mins\n",
      "Step:  6000 - 15:09:51 - Time: 2.67 mins\n",
      "Step:  7000 - 15:10:23 - Time: 3.19 mins\n",
      "Step:  8000 - 15:10:51 - Time: 3.66 mins\n",
      "Step:  9000 - 15:11:21 - Time: 4.17 mins\n",
      "Step: 10000 - 15:11:49 - Time: 4.63 mins\n",
      "Step: 11000 - 15:12:17 - Time: 5.10 mins\n",
      "Step: 12000 - 15:12:49 - Time: 5.63 mins\n",
      "Step: 13000 - 15:13:17 - Time: 6.10 mins\n",
      "Step: 14000 - 15:13:45 - Time: 6.55 mins\n",
      "Step: 15000 - 15:14:13 - Time: 7.03 mins\n",
      "Step: 16000 - 15:14:40 - Time: 7.48 mins\n",
      "Step: 17000 - 15:15:06 - Time: 7.90 mins\n",
      "Step: 18000 - 15:15:33 - Time: 8.37 mins\n",
      "Step: 19000 - 15:16:00 - Time: 8.81 mins\n",
      "Step: 20000 - 15:16:30 - Time: 9.32 mins\n",
      "Step: 21000 - 15:16:59 - Time: 9.79 mins\n",
      "Step: 22000 - 15:17:26 - Time: 10.25 mins\n",
      "Step: 23000 - 15:17:54 - Time: 10.72 mins\n",
      "Step: 24000 - 15:18:26 - Time: 11.25 mins\n",
      "Step: 25000 - 15:18:57 - Time: 11.75 mins\n",
      "Step: 26000 - 15:19:25 - Time: 12.22 mins\n",
      "Step: 27000 - 15:19:53 - Time: 12.70 mins\n",
      "Step: 28000 - 15:20:21 - Time: 13.17 mins\n",
      "Step: 29000 - 15:20:50 - Time: 13.64 mins\n",
      "Step: 30000 - 15:21:19 - Time: 14.13 mins\n",
      "Step: 31000 - 15:21:47 - Time: 14.59 mins\n",
      "Step: 32000 - 15:22:15 - Time: 15.06 mins\n",
      "Step: 33000 - 15:22:46 - Time: 15.58 mins\n",
      "Step: 34000 - 15:23:18 - Time: 16.11 mins\n",
      "Step: 35000 - 15:23:45 - Time: 16.57 mins\n",
      "Step: 36000 - 15:24:14 - Time: 17.05 mins\n",
      "Step: 37000 - 15:24:43 - Time: 17.52 mins\n",
      "Step: 38000 - 15:25:12 - Time: 18.00 mins\n",
      "Step: 39000 - 15:25:40 - Time: 18.48 mins\n",
      "Step: 40000 - 15:26:10 - Time: 18.97 mins\n",
      "Step: 41000 - 15:26:39 - Time: 19.47 mins\n",
      "Step: 42000 - 15:27:09 - Time: 19.96 mins\n",
      "Step: 43000 - 15:27:39 - Time: 20.46 mins\n",
      "Step: 44000 - 15:28:10 - Time: 20.97 mins\n",
      "Step: 45000 - 15:28:40 - Time: 21.48 mins\n",
      "Step: 46000 - 15:29:11 - Time: 21.99 mins\n",
      "Step: 47000 - 15:29:40 - Time: 22.47 mins\n",
      "Step: 48000 - 15:30:11 - Time: 22.99 mins\n",
      "Step: 49000 - 15:30:41 - Time: 23.49 mins\n",
      "Step: 50000 - 15:31:10 - Time: 23.98 mins\n",
      "Step: 51000 - 15:31:40 - Time: 24.47 mins\n",
      "Step: 52000 - 15:32:10 - Time: 24.97 mins\n",
      "Step: 53000 - 15:32:43 - Time: 25.52 mins\n",
      "Step: 54000 - 15:33:15 - Time: 26.06 mins\n",
      "Step: 55000 - 15:33:44 - Time: 26.55 mins\n",
      "Step: 56000 - 15:34:13 - Time: 27.03 mins\n",
      "Step: 57000 - 15:34:43 - Time: 27.52 mins\n",
      "Step: 58000 - 15:35:12 - Time: 28.02 mins\n",
      "Step: 59000 - 15:35:42 - Time: 28.51 mins\n",
      "Step: 60000 - 15:36:12 - Time: 29.01 mins\n",
      "Step: 61000 - 15:36:41 - Time: 29.50 mins\n",
      "Step: 62000 - 15:37:11 - Time: 30.00 mins\n",
      "Step: 63000 - 15:37:42 - Time: 30.51 mins\n",
      "Step: 64000 - 15:38:13 - Time: 31.03 mins\n",
      "64123\n"
     ]
    }
   ],
   "source": [
    "# Binary Images\n",
    "input_path = 'ComputerVision/workspace/images/100k/train/gt_binary_image_jpg/'\n",
    "output_path = 'ComputerVision/workspace/images/100k/train/gt_binary_image_png/'\n",
    "\n",
    "start_number = 1\n",
    "jpg2png(input_path, output_path)"
   ]
  },
  {
   "cell_type": "markdown",
   "metadata": {},
   "source": [
    "## Validation set"
   ]
  },
  {
   "cell_type": "code",
   "execution_count": 10,
   "metadata": {},
   "outputs": [
    {
     "name": "stdout",
     "output_type": "stream",
     "text": [
      "Step:  1000 - 15:43:46 - Time: 5.48 mins\n",
      "Step:  2000 - 15:49:14 - Time: 10.94 mins\n",
      "Step:  3000 - 15:54:48 - Time: 16.51 mins\n",
      "Step:  4000 - 16:00:31 - Time: 22.22 mins\n",
      "Step:  5000 - 16:05:38 - Time: 27.34 mins\n",
      "Step:  6000 - 16:10:44 - Time: 32.44 mins\n",
      "Step:  7000 - 16:15:58 - Time: 37.67 mins\n",
      "Step:  8000 - 16:21:00 - Time: 42.71 mins\n",
      "Step:  9000 - 16:26:04 - Time: 47.77 mins\n",
      "9175\n"
     ]
    }
   ],
   "source": [
    "# Images\n",
    "input_path = 'ComputerVision/workspace/images/100k/val/gt_image_jpg/'\n",
    "output_path = 'ComputerVision/workspace/images/100k/val/gt_image_png/'\n",
    "\n",
    "start_number = 1\n",
    "jpg2png(input_path, output_path)"
   ]
  },
  {
   "cell_type": "code",
   "execution_count": 12,
   "metadata": {},
   "outputs": [
    {
     "name": "stdout",
     "output_type": "stream",
     "text": [
      "Step:  1000 - 21:52:59 - Time: 0.65 mins\n",
      "Step:  2000 - 21:53:35 - Time: 1.24 mins\n",
      "Step:  3000 - 21:54:06 - Time: 1.76 mins\n",
      "Step:  4000 - 21:54:38 - Time: 2.30 mins\n",
      "Step:  5000 - 21:55:09 - Time: 2.82 mins\n",
      "Step:  6000 - 21:55:41 - Time: 3.35 mins\n",
      "Step:  7000 - 21:56:14 - Time: 3.90 mins\n",
      "Step:  8000 - 21:56:49 - Time: 4.49 mins\n",
      "Step:  9000 - 21:57:22 - Time: 5.03 mins\n",
      "9175\n"
     ]
    }
   ],
   "source": [
    "# Binary Images\n",
    "input_path = 'ComputerVision/workspace/images/100k/val/gt_binary_image_jpg/'\n",
    "output_path = 'ComputerVision/workspace/images/100k/val/gt_binary_image_png/'\n",
    "\n",
    "start_number = 1\n",
    "jpg2png(input_path, output_path)"
   ]
  },
  {
   "cell_type": "code",
   "execution_count": null,
   "metadata": {},
   "outputs": [],
   "source": []
  },
  {
   "cell_type": "code",
   "execution_count": 14,
   "metadata": {},
   "outputs": [
    {
     "name": "stdout",
     "output_type": "stream",
     "text": [
      "9175\n"
     ]
    },
    {
     "data": {
      "text/plain": [
       "['09171.png', '09172.png', '09173.png', '09174.png', '09175.png']"
      ]
     },
     "execution_count": 14,
     "metadata": {},
     "output_type": "execute_result"
    }
   ],
   "source": [
    "# output_path = 'ComputerVision/workspace/images/100k/val/gt_binary_image_png/'\n",
    "# files_out = sorted(os.listdir(output_path))\n",
    "# print(len(files_out))\n",
    "# files_out[-5:]"
   ]
  },
  {
   "cell_type": "code",
   "execution_count": null,
   "metadata": {},
   "outputs": [],
   "source": []
  }
 ],
 "metadata": {
  "kernelspec": {
   "display_name": "lanenet",
   "language": "python",
   "name": "lanenet"
  },
  "language_info": {
   "codemirror_mode": {
    "name": "ipython",
    "version": 3
   },
   "file_extension": ".py",
   "mimetype": "text/x-python",
   "name": "python",
   "nbconvert_exporter": "python",
   "pygments_lexer": "ipython3",
   "version": "3.7.6"
  }
 },
 "nbformat": 4,
 "nbformat_minor": 4
}
