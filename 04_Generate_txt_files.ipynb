{
 "cells": [
  {
   "cell_type": "markdown",
   "metadata": {},
   "source": [
    "# Generate txt Files"
   ]
  },
  {
   "cell_type": "code",
   "execution_count": 1,
   "metadata": {},
   "outputs": [],
   "source": [
    "import cv2\n",
    "import numpy as np\n",
    "import os\n",
    "import os.path as ops"
   ]
  },
  {
   "cell_type": "code",
   "execution_count": 2,
   "metadata": {},
   "outputs": [],
   "source": [
    "# Time\n",
    "from datetime import datetime, timezone\n",
    "from time import time\n",
    "import pytz\n",
    "CST = pytz.timezone('US/Central')"
   ]
  },
  {
   "cell_type": "code",
   "execution_count": null,
   "metadata": {},
   "outputs": [],
   "source": []
  },
  {
   "cell_type": "code",
   "execution_count": 3,
   "metadata": {},
   "outputs": [],
   "source": [
    "def gen_train_sample(save_txt_path, b_gt_image_dir, image_dir, count):\n",
    "    listdirbin = sorted(os.listdir(b_gt_image_dir))\n",
    "    print('Initiating...')\n",
    "    with open(save_txt_path, 'w') as file:\n",
    "        for image_name in listdirbin:\n",
    "            t0 = time()\n",
    "            if not image_name.endswith('.png'):\n",
    "                continue\n",
    "            \n",
    "            binary_gt_image_path = ops.join(b_gt_image_dir, image_name)\n",
    "            image_path = ops.join(image_dir, image_name)\n",
    "\n",
    "            info = '{:s} {:s}'.format(image_path, binary_gt_image_path)\n",
    "            file.write(info + '\\n')\n",
    "            \n",
    "            if (count%1000) == 999:\n",
    "              print('Step: {:>5} - {} - Time: {}'.format(count+1,datetime.now(CST).strftime(\"%H:%M:%S\"),time()-t0))\n",
    "            count += 1\n",
    "    return"
   ]
  },
  {
   "cell_type": "markdown",
   "metadata": {},
   "source": [
    "## Training set"
   ]
  },
  {
   "cell_type": "code",
   "execution_count": 4,
   "metadata": {},
   "outputs": [],
   "source": [
    "save_image_path = 'ComputerVision/workspace/images/100k/train/gt_image_png/'\n",
    "save_binary_path = 'ComputerVision/workspace/images/100k/train/gt_binary_image_png/'\n",
    "save_txt_path = 'ComputerVision/workspace/images/100k/train/train.txt'"
   ]
  },
  {
   "cell_type": "code",
   "execution_count": 5,
   "metadata": {},
   "outputs": [
    {
     "name": "stdout",
     "output_type": "stream",
     "text": [
      "Initiating...\n",
      "Step:  1000 - 22:41:27 - Time: 0.0\n",
      "Step:  2000 - 22:41:27 - Time: 0.0\n",
      "Step:  3000 - 22:41:27 - Time: 0.0\n",
      "Step:  4000 - 22:41:27 - Time: 0.0\n",
      "Step:  5000 - 22:41:27 - Time: 0.0\n",
      "Step:  6000 - 22:41:27 - Time: 0.0\n",
      "Step:  7000 - 22:41:27 - Time: 0.0\n",
      "Step:  8000 - 22:41:27 - Time: 0.0\n",
      "Step:  9000 - 22:41:27 - Time: 0.0\n",
      "Step: 10000 - 22:41:27 - Time: 0.0\n",
      "Step: 11000 - 22:41:28 - Time: 0.0\n",
      "Step: 12000 - 22:41:28 - Time: 0.0\n",
      "Step: 13000 - 22:41:28 - Time: 0.0\n",
      "Step: 14000 - 22:41:28 - Time: 0.0\n",
      "Step: 15000 - 22:41:28 - Time: 0.0\n",
      "Step: 16000 - 22:41:28 - Time: 0.0\n",
      "Step: 17000 - 22:41:28 - Time: 0.0\n",
      "Step: 18000 - 22:41:28 - Time: 0.0\n",
      "Step: 19000 - 22:41:28 - Time: 0.0\n",
      "Step: 20000 - 22:41:28 - Time: 0.0\n",
      "Step: 21000 - 22:41:28 - Time: 0.0\n",
      "Step: 22000 - 22:41:28 - Time: 0.0\n",
      "Step: 23000 - 22:41:28 - Time: 0.0\n",
      "Step: 24000 - 22:41:28 - Time: 0.0\n",
      "Step: 25000 - 22:41:28 - Time: 0.0\n",
      "Step: 26000 - 22:41:28 - Time: 0.0\n",
      "Step: 27000 - 22:41:28 - Time: 0.0\n",
      "Step: 28000 - 22:41:28 - Time: 0.0\n",
      "Step: 29000 - 22:41:28 - Time: 0.0\n",
      "Step: 30000 - 22:41:28 - Time: 0.0\n",
      "Step: 31000 - 22:41:28 - Time: 0.0\n",
      "Step: 32000 - 22:41:28 - Time: 0.0\n",
      "Step: 33000 - 22:41:28 - Time: 0.0\n",
      "Step: 34000 - 22:41:28 - Time: 0.0\n",
      "Step: 35000 - 22:41:28 - Time: 0.0\n",
      "Step: 36000 - 22:41:28 - Time: 0.0\n",
      "Step: 37000 - 22:41:28 - Time: 0.0\n",
      "Step: 38000 - 22:41:28 - Time: 0.0\n",
      "Step: 39000 - 22:41:28 - Time: 0.0\n",
      "Step: 40000 - 22:41:28 - Time: 0.0\n",
      "Step: 41000 - 22:41:28 - Time: 0.0\n",
      "Step: 42000 - 22:41:28 - Time: 0.0\n",
      "Step: 43000 - 22:41:28 - Time: 0.0009984970092773438\n",
      "Step: 44000 - 22:41:28 - Time: 0.0\n",
      "Step: 45000 - 22:41:28 - Time: 0.0\n",
      "Step: 46000 - 22:41:28 - Time: 0.0\n",
      "Step: 47000 - 22:41:28 - Time: 0.0\n",
      "Step: 48000 - 22:41:28 - Time: 0.0009970664978027344\n",
      "Step: 49000 - 22:41:28 - Time: 0.0\n",
      "Step: 50000 - 22:41:28 - Time: 0.0\n",
      "Step: 51000 - 22:41:28 - Time: 0.0\n",
      "Step: 52000 - 22:41:28 - Time: 0.0\n",
      "Step: 53000 - 22:41:28 - Time: 0.0\n",
      "Step: 54000 - 22:41:28 - Time: 0.0\n",
      "Step: 55000 - 22:41:28 - Time: 0.0\n",
      "Step: 56000 - 22:41:28 - Time: 0.0\n",
      "Step: 57000 - 22:41:28 - Time: 0.0\n",
      "Step: 58000 - 22:41:28 - Time: 0.0\n",
      "Step: 59000 - 22:41:28 - Time: 0.0009984970092773438\n",
      "Step: 60000 - 22:41:28 - Time: 0.0\n",
      "Step: 61000 - 22:41:28 - Time: 0.0\n",
      "Step: 62000 - 22:41:28 - Time: 0.0\n",
      "Step: 63000 - 22:41:28 - Time: 0.0\n",
      "Step: 64000 - 22:41:28 - Time: 0.0\n"
     ]
    }
   ],
   "source": [
    "count = 1\n",
    "gen_train_sample(save_txt_path, save_binary_path, save_image_path, count)"
   ]
  },
  {
   "cell_type": "markdown",
   "metadata": {},
   "source": [
    "## Validation set"
   ]
  },
  {
   "cell_type": "code",
   "execution_count": 6,
   "metadata": {},
   "outputs": [],
   "source": [
    "save_image_path = 'ComputerVision/workspace/images/100k/val/gt_image_png/'\n",
    "save_binary_path = 'ComputerVision/workspace/images/100k/val/gt_binary_image_png/'\n",
    "save_txt_path = 'ComputerVision/workspace/images/100k/val/val.txt'"
   ]
  },
  {
   "cell_type": "code",
   "execution_count": 7,
   "metadata": {},
   "outputs": [
    {
     "name": "stdout",
     "output_type": "stream",
     "text": [
      "Initiating...\n",
      "Step:  1000 - 22:44:11 - Time: 0.0\n",
      "Step:  2000 - 22:44:11 - Time: 0.0\n",
      "Step:  3000 - 22:44:11 - Time: 0.0\n",
      "Step:  4000 - 22:44:11 - Time: 0.0\n",
      "Step:  5000 - 22:44:11 - Time: 0.0\n",
      "Step:  6000 - 22:44:11 - Time: 0.0\n",
      "Step:  7000 - 22:44:11 - Time: 0.0\n",
      "Step:  8000 - 22:44:11 - Time: 0.0\n",
      "Step:  9000 - 22:44:11 - Time: 0.0\n"
     ]
    }
   ],
   "source": [
    "count = 1\n",
    "gen_train_sample(save_txt_path, save_binary_path, save_image_path, count)"
   ]
  },
  {
   "cell_type": "code",
   "execution_count": null,
   "metadata": {},
   "outputs": [],
   "source": []
  }
 ],
 "metadata": {
  "kernelspec": {
   "display_name": "lanenet",
   "language": "python",
   "name": "lanenet"
  },
  "language_info": {
   "codemirror_mode": {
    "name": "ipython",
    "version": 3
   },
   "file_extension": ".py",
   "mimetype": "text/x-python",
   "name": "python",
   "nbconvert_exporter": "python",
   "pygments_lexer": "ipython3",
   "version": "3.7.6"
  }
 },
 "nbformat": 4,
 "nbformat_minor": 4
}
