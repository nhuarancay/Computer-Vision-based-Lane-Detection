{
 "cells": [
  {
   "cell_type": "markdown",
   "metadata": {},
   "source": [
    "# Labels Analysis"
   ]
  },
  {
   "cell_type": "code",
   "execution_count": 1,
   "metadata": {},
   "outputs": [],
   "source": [
    "import os\n",
    "import json\n",
    "import pandas as pd\n",
    "import numpy as np\n",
    "from collections import Counter"
   ]
  },
  {
   "cell_type": "markdown",
   "metadata": {},
   "source": [
    "### Opening JSON files (labels)"
   ]
  },
  {
   "cell_type": "code",
   "execution_count": 3,
   "metadata": {},
   "outputs": [],
   "source": [
    "# Opening JSON file: Training set\n",
    "f = open('ComputerVision/workspace/labels/bdd100k_labels_images_train.json')\n",
    "data_labels_train = json.load(f)\n",
    "f.close()"
   ]
  },
  {
   "cell_type": "code",
   "execution_count": 4,
   "metadata": {},
   "outputs": [],
   "source": [
    "# Opening JSON file: Validation set\n",
    "f = open('ComputerVision/workspace/labels/bdd100k_labels_images_val.json')\n",
    "data_labels_val = json.load(f)\n",
    "f.close()"
   ]
  },
  {
   "cell_type": "code",
   "execution_count": 5,
   "metadata": {},
   "outputs": [
    {
     "name": "stdout",
     "output_type": "stream",
     "text": [
      "     Train - labels: 69863\n",
      "Validation - labels: 10000\n"
     ]
    }
   ],
   "source": [
    "print('     Train - labels: {}'.format(len(data_labels_train)))\n",
    "print('Validation - labels: {}'.format(len(data_labels_val)))"
   ]
  },
  {
   "cell_type": "markdown",
   "metadata": {},
   "source": [
    "### Objects in labels (total counts)"
   ]
  },
  {
   "cell_type": "code",
   "execution_count": 6,
   "metadata": {},
   "outputs": [
    {
     "name": "stdout",
     "output_type": "stream",
     "text": [
      "\u001b[1mTraining set\u001b[0m\n"
     ]
    },
    {
     "data": {
      "text/plain": [
       "Counter({'traffic light': 186117,\n",
       "         'traffic sign': 239686,\n",
       "         'car': 713211,\n",
       "         'drivable area': 125723,\n",
       "         'lane': 528643,\n",
       "         'person': 91349,\n",
       "         'bus': 11672,\n",
       "         'truck': 29971,\n",
       "         'rider': 4517,\n",
       "         'bike': 7210,\n",
       "         'motor': 3002,\n",
       "         'train': 136})"
      ]
     },
     "execution_count": 6,
     "metadata": {},
     "output_type": "execute_result"
    }
   ],
   "source": [
    "# Count categories: Training set\n",
    "lst_category_train = []\n",
    "n = len(data_labels_train) # Number of images\n",
    "\n",
    "for i in range(n):\n",
    "  data_tmp = data_labels_train[i]\n",
    "  k = len(data_tmp['labels'])\n",
    "  for j in range(k):\n",
    "    lst_category_train.append(data_tmp['labels'][j]['category'])\n",
    "\n",
    "print('\\033[1mTraining set\\033[0m')\n",
    "Counter(lst_category_train)"
   ]
  },
  {
   "cell_type": "code",
   "execution_count": 7,
   "metadata": {},
   "outputs": [
    {
     "name": "stdout",
     "output_type": "stream",
     "text": [
      "\u001b[1mValidation set\u001b[0m\n"
     ]
    },
    {
     "data": {
      "text/plain": [
       "Counter({'traffic sign': 34908,\n",
       "         'traffic light': 26885,\n",
       "         'car': 102506,\n",
       "         'rider': 649,\n",
       "         'motor': 452,\n",
       "         'drivable area': 17981,\n",
       "         'lane': 75730,\n",
       "         'person': 13262,\n",
       "         'bus': 1597,\n",
       "         'truck': 4245,\n",
       "         'bike': 1007,\n",
       "         'train': 15})"
      ]
     },
     "execution_count": 7,
     "metadata": {},
     "output_type": "execute_result"
    }
   ],
   "source": [
    "# Count categories: Validation set\n",
    "lst_category_val = []\n",
    "n = len(data_labels_val) # Number of images\n",
    "\n",
    "for i in range(n):\n",
    "  data_tmp = data_labels_val[i]\n",
    "  k = len(data_tmp['labels'])\n",
    "  for j in range(k):\n",
    "    lst_category_val.append(data_tmp['labels'][j]['category'])\n",
    "\n",
    "print('\\033[1mValidation set\\033[0m')\n",
    "Counter(lst_category_val)"
   ]
  },
  {
   "cell_type": "code",
   "execution_count": 8,
   "metadata": {},
   "outputs": [
    {
     "data": {
      "text/html": [
       "<div>\n",
       "<style scoped>\n",
       "    .dataframe tbody tr th:only-of-type {\n",
       "        vertical-align: middle;\n",
       "    }\n",
       "\n",
       "    .dataframe tbody tr th {\n",
       "        vertical-align: top;\n",
       "    }\n",
       "\n",
       "    .dataframe thead th {\n",
       "        text-align: right;\n",
       "    }\n",
       "</style>\n",
       "<table border=\"1\" class=\"dataframe\">\n",
       "  <thead>\n",
       "    <tr style=\"text-align: right;\">\n",
       "      <th></th>\n",
       "      <th>Counts_train</th>\n",
       "      <th>Counts_val</th>\n",
       "    </tr>\n",
       "  </thead>\n",
       "  <tbody>\n",
       "    <tr>\n",
       "      <th>car</th>\n",
       "      <td>713211</td>\n",
       "      <td>102506</td>\n",
       "    </tr>\n",
       "    <tr>\n",
       "      <th>lane</th>\n",
       "      <td>528643</td>\n",
       "      <td>75730</td>\n",
       "    </tr>\n",
       "    <tr>\n",
       "      <th>traffic sign</th>\n",
       "      <td>239686</td>\n",
       "      <td>34908</td>\n",
       "    </tr>\n",
       "    <tr>\n",
       "      <th>traffic light</th>\n",
       "      <td>186117</td>\n",
       "      <td>26885</td>\n",
       "    </tr>\n",
       "    <tr>\n",
       "      <th>drivable area</th>\n",
       "      <td>125723</td>\n",
       "      <td>17981</td>\n",
       "    </tr>\n",
       "    <tr>\n",
       "      <th>person</th>\n",
       "      <td>91349</td>\n",
       "      <td>13262</td>\n",
       "    </tr>\n",
       "    <tr>\n",
       "      <th>truck</th>\n",
       "      <td>29971</td>\n",
       "      <td>4245</td>\n",
       "    </tr>\n",
       "    <tr>\n",
       "      <th>bus</th>\n",
       "      <td>11672</td>\n",
       "      <td>1597</td>\n",
       "    </tr>\n",
       "    <tr>\n",
       "      <th>bike</th>\n",
       "      <td>7210</td>\n",
       "      <td>1007</td>\n",
       "    </tr>\n",
       "    <tr>\n",
       "      <th>rider</th>\n",
       "      <td>4517</td>\n",
       "      <td>649</td>\n",
       "    </tr>\n",
       "    <tr>\n",
       "      <th>motor</th>\n",
       "      <td>3002</td>\n",
       "      <td>452</td>\n",
       "    </tr>\n",
       "    <tr>\n",
       "      <th>train</th>\n",
       "      <td>136</td>\n",
       "      <td>15</td>\n",
       "    </tr>\n",
       "  </tbody>\n",
       "</table>\n",
       "</div>"
      ],
      "text/plain": [
       "               Counts_train  Counts_val\n",
       "car                  713211      102506\n",
       "lane                 528643       75730\n",
       "traffic sign         239686       34908\n",
       "traffic light        186117       26885\n",
       "drivable area        125723       17981\n",
       "person                91349       13262\n",
       "truck                 29971        4245\n",
       "bus                   11672        1597\n",
       "bike                   7210        1007\n",
       "rider                  4517         649\n",
       "motor                  3002         452\n",
       "train                   136          15"
      ]
     },
     "execution_count": 8,
     "metadata": {},
     "output_type": "execute_result"
    }
   ],
   "source": [
    "# Counts\n",
    "df_category_train = pd.DataFrame.from_dict(Counter(lst_category_train), orient='index', columns=['Counts'])\n",
    "df_category_val  = pd.DataFrame.from_dict(Counter(lst_category_val), orient='index', columns=['Counts'])\n",
    "df_category = df_category_train.merge(df_category_val, left_index=True, right_index=True, how='outer', suffixes=['_train','_val'])\n",
    "df_category.sort_values(by='Counts_train', ascending=False, inplace=True)\n",
    "df_category"
   ]
  },
  {
   "cell_type": "markdown",
   "metadata": {},
   "source": [
    "### Images with Lanes and Drivable Areas"
   ]
  },
  {
   "cell_type": "code",
   "execution_count": 27,
   "metadata": {},
   "outputs": [
    {
     "name": "stdout",
     "output_type": "stream",
     "text": [
      "\u001b[1mTraining set\u001b[0m\n"
     ]
    },
    {
     "data": {
      "text/plain": [
       "64123"
      ]
     },
     "execution_count": 27,
     "metadata": {},
     "output_type": "execute_result"
    }
   ],
   "source": [
    "# List of images with Lanes and Drivable: Training set\n",
    "n = len(data_labels_train) # Number of images\n",
    "lst_lane_drivable = []\n",
    "\n",
    "for i in range(n):\n",
    "  data_tmp = data_labels_train[i]\n",
    "  k = len(data_tmp['labels'])\n",
    "  lane = 0\n",
    "  drivable = 0\n",
    "  for j in range(k):\n",
    "    if data_tmp['labels'][j]['category'] == 'lane':\n",
    "      lane += 1\n",
    "    if data_tmp['labels'][j]['category'] == 'drivable area':\n",
    "      drivable += 1\n",
    "\n",
    "  if lane > 0 and drivable > 0:\n",
    "    lst_lane_drivable.append(data_tmp['name'])\n",
    "\n",
    "\n",
    "print('\\033[1mTraining set\\033[0m')\n",
    "len(lst_lane_drivable)"
   ]
  },
  {
   "cell_type": "code",
   "execution_count": 28,
   "metadata": {},
   "outputs": [
    {
     "name": "stdout",
     "output_type": "stream",
     "text": [
      "\u001b[1mValidation set\u001b[0m\n"
     ]
    },
    {
     "data": {
      "text/plain": [
       "9175"
      ]
     },
     "execution_count": 28,
     "metadata": {},
     "output_type": "execute_result"
    }
   ],
   "source": [
    "# List of images with Lanes and Drivable: Validation set\n",
    "n = len(data_labels_val) # Number of images\n",
    "lst_lane_drivable = []\n",
    "\n",
    "for i in range(n):\n",
    "  data_tmp = data_labels_val[i]\n",
    "  k = len(data_tmp['labels'])\n",
    "  lane = 0\n",
    "  drivable = 0\n",
    "  for j in range(k):\n",
    "    if data_tmp['labels'][j]['category'] == 'lane':\n",
    "      lane += 1\n",
    "    if data_tmp['labels'][j]['category'] == 'drivable area':\n",
    "      drivable += 1\n",
    "\n",
    "  if lane > 0 and drivable > 0:\n",
    "    lst_lane_drivable.append(data_tmp['name'])\n",
    "\n",
    "\n",
    "print('\\033[1mValidation set\\033[0m')\n",
    "len(lst_lane_drivable)"
   ]
  },
  {
   "cell_type": "code",
   "execution_count": null,
   "metadata": {},
   "outputs": [],
   "source": []
  },
  {
   "cell_type": "code",
   "execution_count": null,
   "metadata": {},
   "outputs": [],
   "source": []
  }
 ],
 "metadata": {
  "kernelspec": {
   "display_name": "lanenet",
   "language": "python",
   "name": "lanenet"
  },
  "language_info": {
   "codemirror_mode": {
    "name": "ipython",
    "version": 3
   },
   "file_extension": ".py",
   "mimetype": "text/x-python",
   "name": "python",
   "nbconvert_exporter": "python",
   "pygments_lexer": "ipython3",
   "version": "3.7.6"
  }
 },
 "nbformat": 4,
 "nbformat_minor": 4
}
